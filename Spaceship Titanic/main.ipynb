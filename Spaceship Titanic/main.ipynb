{
 "cells": [
  {
   "cell_type": "code",
   "execution_count": 2,
   "metadata": {},
   "outputs": [
    {
     "name": "stderr",
     "output_type": "stream",
     "text": [
      "c:\\Users\\Lenovo\\AppData\\Local\\Programs\\Python\\Python310\\lib\\site-packages\\tqdm\\auto.py:22: TqdmWarning: IProgress not found. Please update jupyter and ipywidgets. See https://ipywidgets.readthedocs.io/en/stable/user_install.html\n",
      "  from .autonotebook import tqdm as notebook_tqdm\n"
     ]
    }
   ],
   "source": [
    "import pandas as pd\n",
    "import numpy as np\n",
    "import sklearn\n",
    "import torch\n",
    "import matplotlib.pyplot as plt"
   ]
  },
  {
   "cell_type": "code",
   "execution_count": 3,
   "metadata": {},
   "outputs": [],
   "source": [
    "df_test = pd.read_csv('test.csv')\n",
    "df_train = pd.read_csv('train.csv')"
   ]
  },
  {
   "attachments": {},
   "cell_type": "markdown",
   "metadata": {},
   "source": [
    "DESCRIPTIVES"
   ]
  },
  {
   "cell_type": "code",
   "execution_count": 4,
   "metadata": {},
   "outputs": [
    {
     "name": "stdout",
     "output_type": "stream",
     "text": [
      "<class 'pandas.core.frame.DataFrame'>\n",
      "RangeIndex: 8693 entries, 0 to 8692\n",
      "Data columns (total 14 columns):\n",
      " #   Column        Non-Null Count  Dtype  \n",
      "---  ------        --------------  -----  \n",
      " 0   PassengerId   8693 non-null   object \n",
      " 1   HomePlanet    8492 non-null   object \n",
      " 2   CryoSleep     8476 non-null   object \n",
      " 3   Cabin         8494 non-null   object \n",
      " 4   Destination   8511 non-null   object \n",
      " 5   Age           8514 non-null   float64\n",
      " 6   VIP           8490 non-null   object \n",
      " 7   RoomService   8512 non-null   float64\n",
      " 8   FoodCourt     8510 non-null   float64\n",
      " 9   ShoppingMall  8485 non-null   float64\n",
      " 10  Spa           8510 non-null   float64\n",
      " 11  VRDeck        8505 non-null   float64\n",
      " 12  Name          8493 non-null   object \n",
      " 13  Transported   8693 non-null   bool   \n",
      "dtypes: bool(1), float64(6), object(7)\n",
      "memory usage: 891.5+ KB\n"
     ]
    }
   ],
   "source": [
    "df_train.info()"
   ]
  },
  {
   "cell_type": "code",
   "execution_count": 5,
   "metadata": {},
   "outputs": [
    {
     "data": {
      "text/plain": [
       "(array([ 591.,  649., 2089., 1976., 1350.,  893.,  536.,  294.,  106.,\n",
       "          30.]),\n",
       " array([ 0. ,  7.9, 15.8, 23.7, 31.6, 39.5, 47.4, 55.3, 63.2, 71.1, 79. ]),\n",
       " <BarContainer object of 10 artists>)"
      ]
     },
     "execution_count": 5,
     "metadata": {},
     "output_type": "execute_result"
    },
    {
     "data": {
      "image/png": "[encoded data removed]",
      "text/plain": [
       "<Figure size 432x288 with 1 Axes>"
      ]
     },
     "metadata": {
      "needs_background": "light"
     },
     "output_type": "display_data"
    }
   ],
   "source": [
    "plt.hist(df_train.Age)"
   ]
  },
  {
   "cell_type": "code",
   "execution_count": 6,
   "metadata": {},
   "outputs": [
    {
     "name": "stdout",
     "output_type": "stream",
     "text": [
      "HomePlanet {'Earth': 4602, 'Europa': 2131, 'Mars': 1759}\n",
      "CryoSleep {False: 5439, True: 3037}\n",
      "Cabin has 6560 different values\n",
      "Destination {'TRAPPIST-1e': 5915, '55 Cancri e': 1800, 'PSO J318.5-22': 796}\n",
      "Age has 80 different values\n",
      "VIP {False: 8291, True: 199}\n",
      "RoomService has 1273 different values\n",
      "FoodCourt has 1507 different values\n",
      "ShoppingMall has 1115 different values\n",
      "Spa has 1327 different values\n",
      "VRDeck has 1306 different values\n",
      "Name has 8473 different values\n",
      "Transported {True: 4378, False: 4315}\n"
     ]
    }
   ],
   "source": [
    "for column in df_train.columns[1:]:\n",
    "    values = df_train[column].value_counts()\n",
    "    if len(values) < 5:\n",
    "        print(column, dict(values))\n",
    "    else:\n",
    "        print(f'{column} has {len(values)} different values')"
   ]
  },
  {
   "attachments": {},
   "cell_type": "markdown",
   "metadata": {},
   "source": [
    "PREPROCESSING"
   ]
  },
  {
   "cell_type": "code",
   "execution_count": 7,
   "metadata": {},
   "outputs": [],
   "source": [
    "def fillna_with_mode(df):\n",
    "    for column in df.columns:\n",
    "        mode_value = df[column].mode()[0]\n",
    "        df[column].fillna(mode_value, inplace=True)\n",
    "        \n",
    "    return df\n",
    "\n",
    "def replace_with_numbers(df, column_names):\n",
    "    for column in column_names:\n",
    "        unique_values = sorted(df[column].unique())\n",
    "        value_to_number = {value: i for i, value in enumerate(unique_values)}\n",
    "        df[column] = df[column].replace(value_to_number)\n",
    "    \n",
    "    return df\n",
    "\n",
    "def get_non_numeric_columns(df):\n",
    "    non_numeric_columns = []\n",
    "    \n",
    "    for column in df.columns:\n",
    "        if not pd.api.types.is_numeric_dtype(df[column]) or pd.api.types.is_bool_dtype(df[column]):\n",
    "            non_numeric_columns.append(column)\n",
    "\n",
    "    return non_numeric_columns"
   ]
  },
  {
   "cell_type": "code",
   "execution_count": 8,
   "metadata": {},
   "outputs": [
    {
     "data": {
      "text/plain": [
       "['PassengerId',\n",
       " 'HomePlanet',\n",
       " 'CryoSleep',\n",
       " 'Cabin',\n",
       " 'Destination',\n",
       " 'VIP',\n",
       " 'Transported']"
      ]
     },
     "execution_count": 8,
     "metadata": {},
     "output_type": "execute_result"
    }
   ],
   "source": [
    "non_numeric_columns = get_non_numeric_columns(df_train)\n",
    "del non_numeric_columns[-2]\n",
    "non_numeric_columns"
   ]
  },
  {
   "cell_type": "code",
   "execution_count": 9,
   "metadata": {},
   "outputs": [],
   "source": [
    "df_test = fillna_with_mode(df_test)\n",
    "df_train = fillna_with_mode(df_train)\n",
    "\n",
    "df_test = replace_with_numbers(df_test, non_numeric_columns[:-1])\n",
    "df_train = replace_with_numbers(df_train, non_numeric_columns)"
   ]
  },
  {
   "cell_type": "code",
   "execution_count": 10,
   "metadata": {},
   "outputs": [
    {
     "data": {
      "text/html": [
       "<div>\n",
       "<style scoped>\n",
       "    .dataframe tbody tr th:only-of-type {\n",
       "        vertical-align: middle;\n",
       "    }\n",
       "\n",
       "    .dataframe tbody tr th {\n",
       "        vertical-align: top;\n",
       "    }\n",
       "\n",
       "    .dataframe thead th {\n",
       "        text-align: right;\n",
       "    }\n",
       "</style>\n",
       "<table border=\"1\" class=\"dataframe\">\n",
       "  <thead>\n",
       "    <tr style=\"text-align: right;\">\n",
       "      <th></th>\n",
       "      <th>PassengerId</th>\n",
       "      <th>HomePlanet</th>\n",
       "      <th>CryoSleep</th>\n",
       "      <th>Cabin</th>\n",
       "      <th>Destination</th>\n",
       "      <th>Age</th>\n",
       "      <th>VIP</th>\n",
       "      <th>RoomService</th>\n",
       "      <th>FoodCourt</th>\n",
       "      <th>ShoppingMall</th>\n",
       "      <th>Spa</th>\n",
       "      <th>VRDeck</th>\n",
       "      <th>Name</th>\n",
       "      <th>Transported</th>\n",
       "    </tr>\n",
       "  </thead>\n",
       "  <tbody>\n",
       "    <tr>\n",
       "      <th>0</th>\n",
       "      <td>0</td>\n",
       "      <td>1</td>\n",
       "      <td>0</td>\n",
       "      <td>149</td>\n",
       "      <td>2</td>\n",
       "      <td>39.0</td>\n",
       "      <td>0</td>\n",
       "      <td>0.0</td>\n",
       "      <td>0.0</td>\n",
       "      <td>0.0</td>\n",
       "      <td>0.0</td>\n",
       "      <td>0.0</td>\n",
       "      <td>Maham Ofracculy</td>\n",
       "      <td>0</td>\n",
       "    </tr>\n",
       "    <tr>\n",
       "      <th>1</th>\n",
       "      <td>1</td>\n",
       "      <td>0</td>\n",
       "      <td>0</td>\n",
       "      <td>2184</td>\n",
       "      <td>2</td>\n",
       "      <td>24.0</td>\n",
       "      <td>0</td>\n",
       "      <td>109.0</td>\n",
       "      <td>9.0</td>\n",
       "      <td>25.0</td>\n",
       "      <td>549.0</td>\n",
       "      <td>44.0</td>\n",
       "      <td>Juanna Vines</td>\n",
       "      <td>1</td>\n",
       "    </tr>\n",
       "    <tr>\n",
       "      <th>2</th>\n",
       "      <td>2</td>\n",
       "      <td>1</td>\n",
       "      <td>0</td>\n",
       "      <td>1</td>\n",
       "      <td>2</td>\n",
       "      <td>58.0</td>\n",
       "      <td>1</td>\n",
       "      <td>43.0</td>\n",
       "      <td>3576.0</td>\n",
       "      <td>0.0</td>\n",
       "      <td>6715.0</td>\n",
       "      <td>49.0</td>\n",
       "      <td>Altark Susent</td>\n",
       "      <td>0</td>\n",
       "    </tr>\n",
       "    <tr>\n",
       "      <th>3</th>\n",
       "      <td>3</td>\n",
       "      <td>1</td>\n",
       "      <td>0</td>\n",
       "      <td>1</td>\n",
       "      <td>2</td>\n",
       "      <td>33.0</td>\n",
       "      <td>0</td>\n",
       "      <td>0.0</td>\n",
       "      <td>1283.0</td>\n",
       "      <td>371.0</td>\n",
       "      <td>3329.0</td>\n",
       "      <td>193.0</td>\n",
       "      <td>Solam Susent</td>\n",
       "      <td>0</td>\n",
       "    </tr>\n",
       "    <tr>\n",
       "      <th>4</th>\n",
       "      <td>4</td>\n",
       "      <td>0</td>\n",
       "      <td>0</td>\n",
       "      <td>2186</td>\n",
       "      <td>2</td>\n",
       "      <td>16.0</td>\n",
       "      <td>0</td>\n",
       "      <td>303.0</td>\n",
       "      <td>70.0</td>\n",
       "      <td>151.0</td>\n",
       "      <td>565.0</td>\n",
       "      <td>2.0</td>\n",
       "      <td>Willy Santantines</td>\n",
       "      <td>1</td>\n",
       "    </tr>\n",
       "  </tbody>\n",
       "</table>\n",
       "</div>"
      ],
      "text/plain": [
       "   PassengerId  HomePlanet  CryoSleep  Cabin  Destination   Age  VIP  \\\n",
       "0            0           1          0    149            2  39.0    0   \n",
       "1            1           0          0   2184            2  24.0    0   \n",
       "2            2           1          0      1            2  58.0    1   \n",
       "3            3           1          0      1            2  33.0    0   \n",
       "4            4           0          0   2186            2  16.0    0   \n",
       "\n",
       "   RoomService  FoodCourt  ShoppingMall     Spa  VRDeck               Name  \\\n",
       "0          0.0        0.0           0.0     0.0     0.0    Maham Ofracculy   \n",
       "1        109.0        9.0          25.0   549.0    44.0       Juanna Vines   \n",
       "2         43.0     3576.0           0.0  6715.0    49.0      Altark Susent   \n",
       "3          0.0     1283.0         371.0  3329.0   193.0       Solam Susent   \n",
       "4        303.0       70.0         151.0   565.0     2.0  Willy Santantines   \n",
       "\n",
       "   Transported  \n",
       "0            0  \n",
       "1            1  \n",
       "2            0  \n",
       "3            0  \n",
       "4            1  "
      ]
     },
     "execution_count": 10,
     "metadata": {},
     "output_type": "execute_result"
    }
   ],
   "source": [
    "df_train[:5]"
   ]
  },
  {
   "cell_type": "code",
   "execution_count": 11,
   "metadata": {},
   "outputs": [],
   "source": [
    "X = df_train[['HomePlanet', 'CryoSleep', 'Cabin', 'Destination', 'Age', 'VIP', 'RoomService', 'FoodCourt', 'ShoppingMall', 'Spa', 'VRDeck']]\n",
    "y = df_train['Transported']"
   ]
  },
  {
   "attachments": {},
   "cell_type": "markdown",
   "metadata": {},
   "source": [
    "SHALOW PREDICTIONS"
   ]
  },
  {
   "cell_type": "code",
   "execution_count": 16,
   "metadata": {},
   "outputs": [],
   "source": [
    "from sklearn.model_selection import StratifiedKFold\n",
    "\n",
    "kfold = StratifiedKFold(n_splits=5, shuffle=True)"
   ]
  },
  {
   "cell_type": "code",
   "execution_count": 17,
   "metadata": {},
   "outputs": [
    {
     "data": {
      "text/plain": [
       "(0.7886789955736899, 0.006791335205124823)"
      ]
     },
     "execution_count": 17,
     "metadata": {},
     "output_type": "execute_result"
    }
   ],
   "source": [
    "from sklearn.svm import SVC\n",
    "from sklearn.model_selection import cross_val_score\n",
    "\n",
    "clf_SVC = SVC(C=100)\n",
    "cvs = cross_val_score(clf_SVC, X, y, cv=kfold)\n",
    "cvs.mean(), cvs.std()"
   ]
  },
  {
   "cell_type": "code",
   "execution_count": 18,
   "metadata": {},
   "outputs": [
    {
     "data": {
      "text/plain": [
       "(0.7974221656957989, 0.010065651271644499)"
      ]
     },
     "execution_count": 18,
     "metadata": {},
     "output_type": "execute_result"
    }
   ],
   "source": [
    "from sklearn.ensemble import RandomForestClassifier\n",
    "\n",
    "clf_RF = RandomForestClassifier(max_depth=8)\n",
    "cvs = cross_val_score(clf_RF, X, y, cv=kfold)\n",
    "cvs.mean(), cvs.std()"
   ]
  },
  {
   "attachments": {},
   "cell_type": "markdown",
   "metadata": {},
   "source": [
    "DEEP PREDICTIONS"
   ]
  },
  {
   "cell_type": "code",
   "execution_count": 498,
   "metadata": {},
   "outputs": [],
   "source": [
    "from sklearn.model_selection import train_test_split\n",
    "\n",
    "X_train, X_test, y_train, y_test = train_test_split(torch.tensor(X.to_numpy()).float(), \n",
    "                                                    torch.tensor(y.values).float(),\n",
    "                                                    test_size=0.2, random_state=42)"
   ]
  },
  {
   "cell_type": "code",
   "execution_count": 499,
   "metadata": {},
   "outputs": [],
   "source": [
    "from torch import nn\n",
    "\n",
    "class BinaryClassificationModel(nn.Module):\n",
    "    def __init__(self):\n",
    "        super().__init__()\n",
    "        self.hidden = nn.Linear(11, 32)\n",
    "        self.relu = nn.ReLU()\n",
    "        self.dropout = nn.Dropout(p=0.3)\n",
    "        self.output = nn.Linear(32, 1)\n",
    "        self.sigmoid = nn.Sigmoid()\n",
    "        \n",
    "    def forward(self, x):\n",
    "        x = self.relu(self.hidden(x))\n",
    "        x = self.dropout(x)\n",
    "        x = self.sigmoid(self.output(x))\n",
    "        return x.flatten()"
   ]
  },
  {
   "cell_type": "code",
   "execution_count": 500,
   "metadata": {},
   "outputs": [
    {
     "data": {
      "text/plain": [
       "[Parameter containing:\n",
       " tensor([[ 0.2305,  0.2503, -0.0706,  0.2770, -0.0661,  0.0608, -0.1468,  0.1771,\n",
       "           0.2658, -0.2212,  0.2621],\n",
       "         [ 0.0564,  0.2228,  0.0408,  0.1454, -0.0426,  0.2324,  0.0446, -0.1408,\n",
       "           0.0769, -0.1389, -0.0354],\n",
       "         [-0.1225,  0.2000, -0.2380, -0.1390, -0.0851, -0.1813,  0.0285, -0.2978,\n",
       "           0.2723, -0.2561,  0.2328],\n",
       "         [ 0.0502, -0.0979,  0.1863,  0.0470,  0.2436,  0.0330, -0.0951,  0.0810,\n",
       "          -0.0818,  0.1269,  0.2692],\n",
       "         [ 0.1743, -0.1318,  0.1741,  0.0539,  0.1531, -0.1838, -0.2985, -0.1165,\n",
       "          -0.2313,  0.2474,  0.0868],\n",
       "         [ 0.1249,  0.0954, -0.0052,  0.2360, -0.2142,  0.0190, -0.2058,  0.0930,\n",
       "          -0.1038,  0.0924, -0.0628],\n",
       "         [ 0.2501, -0.1787, -0.1798, -0.1798,  0.2712,  0.1005,  0.2901, -0.2488,\n",
       "          -0.2991, -0.2359, -0.2028],\n",
       "         [ 0.1221,  0.1080,  0.2505, -0.1557, -0.2055,  0.1600, -0.1219,  0.1830,\n",
       "          -0.0715,  0.1725, -0.2343],\n",
       "         [-0.1522,  0.0919,  0.0637, -0.0769,  0.1797,  0.2050, -0.2186, -0.1610,\n",
       "           0.2761, -0.1017, -0.1069],\n",
       "         [-0.2917, -0.1727,  0.0753, -0.0398, -0.2189,  0.0071, -0.2060, -0.2558,\n",
       "          -0.1660, -0.2639, -0.1920],\n",
       "         [ 0.3014,  0.0569,  0.0929, -0.2812, -0.1980, -0.1004,  0.0471, -0.2653,\n",
       "          -0.1299, -0.1805,  0.0008],\n",
       "         [-0.1122, -0.0209, -0.2043, -0.2070, -0.1759, -0.1032, -0.2380,  0.2528,\n",
       "          -0.0598,  0.2594,  0.0939],\n",
       "         [-0.2553,  0.2087, -0.0830, -0.1156, -0.2503, -0.2998,  0.0863, -0.0659,\n",
       "           0.1174, -0.2474,  0.2239],\n",
       "         [-0.2213, -0.0521,  0.0630,  0.1557,  0.2434,  0.2747, -0.2391,  0.0759,\n",
       "          -0.1297, -0.0330, -0.2257],\n",
       "         [ 0.2746, -0.2213,  0.1611,  0.1060,  0.0980, -0.1630,  0.2741,  0.0663,\n",
       "           0.0388, -0.2657,  0.1266],\n",
       "         [-0.0452, -0.1381,  0.2590,  0.0672, -0.1668, -0.1526, -0.0144,  0.1684,\n",
       "          -0.0770, -0.1720, -0.1033],\n",
       "         [-0.2253,  0.1075,  0.2334, -0.2839,  0.0700,  0.1558,  0.0547, -0.1074,\n",
       "           0.1574,  0.1584,  0.1127],\n",
       "         [-0.0530, -0.0798,  0.0323, -0.0533, -0.0899,  0.1927,  0.2591, -0.0298,\n",
       "          -0.0675,  0.0044, -0.0180],\n",
       "         [ 0.0725,  0.0845, -0.2738, -0.1113,  0.2539,  0.1175, -0.0150, -0.1818,\n",
       "          -0.1845, -0.2701, -0.0983],\n",
       "         [ 0.1018,  0.1923,  0.1392, -0.2665, -0.1813, -0.0476,  0.2917,  0.0436,\n",
       "          -0.0781,  0.1247, -0.1148],\n",
       "         [-0.1952,  0.2201, -0.1371, -0.0604, -0.2999,  0.2018,  0.2284,  0.1099,\n",
       "          -0.2102, -0.2976, -0.2449],\n",
       "         [ 0.2248,  0.1448,  0.2537,  0.1580,  0.0763, -0.0030, -0.2293, -0.2583,\n",
       "          -0.2820,  0.1234, -0.1480],\n",
       "         [-0.0607, -0.1735, -0.0549, -0.2122, -0.1970,  0.1000, -0.0896,  0.1861,\n",
       "          -0.0967, -0.2212, -0.0532],\n",
       "         [-0.1462, -0.0922, -0.2870,  0.1687, -0.2099,  0.1515,  0.1368,  0.2154,\n",
       "          -0.2313,  0.2168, -0.1425],\n",
       "         [ 0.1119,  0.2832, -0.0425, -0.0023, -0.0694, -0.2518,  0.1447, -0.2993,\n",
       "           0.1872,  0.2256,  0.2851],\n",
       "         [-0.0711, -0.2477,  0.0678,  0.1666, -0.3001, -0.0684, -0.1807, -0.0264,\n",
       "          -0.1484, -0.1232, -0.0957],\n",
       "         [-0.2865,  0.2474,  0.2528, -0.0473, -0.0343, -0.1231, -0.2723, -0.2934,\n",
       "           0.1121, -0.1655, -0.1938],\n",
       "         [-0.0235, -0.1004, -0.0975,  0.0097, -0.0640, -0.1038, -0.1444, -0.2454,\n",
       "           0.2528, -0.1207,  0.0799],\n",
       "         [-0.1046,  0.0245,  0.2811,  0.1389, -0.2613,  0.1197,  0.2862,  0.0793,\n",
       "           0.2021,  0.2973, -0.0462],\n",
       "         [ 0.0626, -0.2096, -0.0621,  0.2233,  0.1546, -0.1908, -0.2418, -0.2060,\n",
       "          -0.2976, -0.2327, -0.0746],\n",
       "         [ 0.2035,  0.0505, -0.2293, -0.2419,  0.1500, -0.2243, -0.0371,  0.1446,\n",
       "          -0.1395, -0.0329, -0.0262],\n",
       "         [-0.0713, -0.1529, -0.2688, -0.2437, -0.1614,  0.2912, -0.1456, -0.2025,\n",
       "           0.0731,  0.0831,  0.1652]], requires_grad=True),\n",
       " Parameter containing:\n",
       " tensor([ 0.2292,  0.1679, -0.2989,  0.0267,  0.1826, -0.0279, -0.1777,  0.2874,\n",
       "         -0.1128, -0.1717, -0.2718,  0.0135,  0.1336,  0.0667,  0.0596, -0.2287,\n",
       "         -0.2816,  0.0053,  0.2749,  0.1739, -0.1756, -0.0391, -0.2223, -0.1455,\n",
       "          0.0546,  0.1642,  0.2498, -0.2768,  0.2016, -0.2127,  0.1129,  0.2552],\n",
       "        requires_grad=True),\n",
       " Parameter containing:\n",
       " tensor([[ 0.0025,  0.1608, -0.1506, -0.0675,  0.1031, -0.0385, -0.0362, -0.0737,\n",
       "           0.1219,  0.0867,  0.0566, -0.0993, -0.1435,  0.0191,  0.0524, -0.0816,\n",
       "          -0.0495,  0.1194,  0.0141,  0.0080, -0.0435, -0.1601, -0.1662, -0.0845,\n",
       "          -0.0899,  0.0551, -0.0515, -0.0692,  0.1685,  0.0616,  0.1260, -0.0856]],\n",
       "        requires_grad=True),\n",
       " Parameter containing:\n",
       " tensor([-0.0722], requires_grad=True)]"
      ]
     },
     "execution_count": 500,
     "metadata": {},
     "output_type": "execute_result"
    }
   ],
   "source": [
    "torch.manual_seed(42)\n",
    "\n",
    "model = BinaryClassificationModel()\n",
    "\n",
    "list(model.parameters())"
   ]
  },
  {
   "cell_type": "code",
   "execution_count": 501,
   "metadata": {},
   "outputs": [
    {
     "data": {
      "text/plain": [
       "(tensor([0., 1., 0., 0., 0.]), tensor([1., 0., 0., 1., 1.]))"
      ]
     },
     "execution_count": 501,
     "metadata": {},
     "output_type": "execute_result"
    }
   ],
   "source": [
    "with torch.inference_mode():\n",
    "    random_prediction = model(X_test)\n",
    "\n",
    "random_prediction[:5], y_test[:5]"
   ]
  },
  {
   "cell_type": "code",
   "execution_count": 502,
   "metadata": {},
   "outputs": [],
   "source": [
    "from sklearn.metrics import accuracy_score\n",
    "\n",
    "def get_accuracy_score(tensor_1, tensor_2):\n",
    "    list_1 = [1 if item > 0.5 else int(item) for item in tensor_1]\n",
    "    list_2 = [int(item) for item in tensor_2]\n",
    "\n",
    "    return accuracy_score(list_1, list_2)"
   ]
  },
  {
   "cell_type": "code",
   "execution_count": 503,
   "metadata": {},
   "outputs": [
    {
     "data": {
      "text/plain": [
       "0.45543415756181715"
      ]
     },
     "execution_count": 503,
     "metadata": {},
     "output_type": "execute_result"
    }
   ],
   "source": [
    "get_accuracy_score(random_prediction, y_test)"
   ]
  },
  {
   "cell_type": "code",
   "execution_count": 504,
   "metadata": {},
   "outputs": [],
   "source": [
    "def visualize_training(epoch_count, loss_values, test_loss_values):\n",
    "    plt.plot(epoch_count, torch.tensor(loss_values).numpy(), label='Train loss')\n",
    "    plt.plot(epoch_count, test_loss_values, label='Test loss')\n",
    "    plt.ylabel('Loss')\n",
    "    plt.xlabel('Epochs')\n",
    "    plt.legend()"
   ]
  },
  {
   "cell_type": "code",
   "execution_count": 505,
   "metadata": {},
   "outputs": [],
   "source": [
    "def model_train(model, X_train, y_train, visualize=False):\n",
    "    torch.manual_seed(42)\n",
    "\n",
    "    loss_fn = nn.BCELoss()\n",
    "    optimizer = torch.optim.Adam(model.parameters(), lr=0.01)\n",
    "    epochs = 400\n",
    "\n",
    "    epoch_count = []\n",
    "    loss_values = []\n",
    "    test_loss_values = []\n",
    "\n",
    "    for epoch in range(epochs):\n",
    "        \n",
    "        if epoch == 250:\n",
    "            optimizer = torch.optim.Adam(model.parameters(), lr=0.001)\n",
    "\n",
    "\n",
    "        model.train() # Sets parameters that require gradience to require gradient\n",
    "\n",
    "        # Forward pass\n",
    "        y_pred = model(X_train)\n",
    "\n",
    "        # Calculate loss\n",
    "        loss = loss_fn(y_pred, y_train)\n",
    "        \n",
    "        optimizer.zero_grad()\n",
    "\n",
    "        # Perform backpropagation on the loss with respect to parameters\n",
    "        loss.backward() # Start fresh each iteration\n",
    "\n",
    "        # Step the optimizer (perform gradient descend)\n",
    "        optimizer.step() # By default will accumulate through the loop, so zero them above\n",
    "\n",
    "        with torch.inference_mode():\n",
    "            test_pred = model(X_test)\n",
    "            test_loss = loss_fn(test_pred, y_test)\n",
    "\n",
    "        if epoch % 100 == 0:\n",
    "            print(f'Epoch {epoch} | Loss: {test_loss}')\n",
    "            epoch_count.append(epoch)\n",
    "            loss_values.append(loss)\n",
    "            test_loss_values.append(test_loss)\n",
    "\n",
    "\n",
    "    model.eval() # Turns off gradient tracking\n",
    "    if visualize:\n",
    "        visualize_training(epoch_count, loss_values, test_loss_values)"
   ]
  },
  {
   "cell_type": "code",
   "execution_count": 506,
   "metadata": {},
   "outputs": [
    {
     "name": "stdout",
     "output_type": "stream",
     "text": [
      "Epoch 0 | Loss: 42.222469329833984\n",
      "Epoch 100 | Loss: 20.336387634277344\n",
      "Epoch 200 | Loss: 0.7815895080566406\n",
      "Epoch 300 | Loss: 0.6263114213943481\n"
     ]
    },
    {
     "data": {
      "image/png": "[encoded data removed]",
      "text/plain": [
       "<Figure size 432x288 with 1 Axes>"
      ]
     },
     "metadata": {
      "needs_background": "light"
     },
     "output_type": "display_data"
    }
   ],
   "source": [
    "model_train(model, X_train, y_train, visualize=True)"
   ]
  },
  {
   "cell_type": "code",
   "execution_count": 507,
   "metadata": {},
   "outputs": [
    {
     "data": {
      "text/plain": [
       "0.7550316273720529"
      ]
     },
     "execution_count": 507,
     "metadata": {},
     "output_type": "execute_result"
    }
   ],
   "source": [
    "with torch.inference_mode():\n",
    "    training_prediction = model(X_test)\n",
    "\n",
    "get_accuracy_score(training_prediction, y_test)"
   ]
  },
  {
   "cell_type": "code",
   "execution_count": 512,
   "metadata": {},
   "outputs": [
    {
     "name": "stdout",
     "output_type": "stream",
     "text": [
      "Epoch 0 | Loss: 45.168331146240234\n",
      "Epoch 100 | Loss: 3.9973959922790527\n",
      "Epoch 200 | Loss: 0.7278192043304443\n",
      "Epoch 300 | Loss: 0.7486602663993835\n",
      "Accuracy: 0.7713874910136592\n",
      "Epoch 0 | Loss: 44.86315155029297\n",
      "Epoch 100 | Loss: 6.321168899536133\n",
      "Epoch 200 | Loss: 1.413256287574768\n",
      "Epoch 300 | Loss: 0.6016399264335632\n",
      "Accuracy: 0.7778576563623293\n",
      "Epoch 0 | Loss: 44.93869400024414\n",
      "Epoch 100 | Loss: 4.227230548858643\n",
      "Epoch 200 | Loss: 0.8884239196777344\n",
      "Epoch 300 | Loss: 0.664879322052002\n",
      "Accuracy: 0.7778576563623293\n",
      "Epoch 0 | Loss: 44.87848663330078\n",
      "Epoch 100 | Loss: 6.772134304046631\n",
      "Epoch 200 | Loss: 1.017423152923584\n",
      "Epoch 300 | Loss: 0.9415441751480103\n",
      "Accuracy: 0.7872034507548527\n",
      "Epoch 0 | Loss: 45.0301399230957\n",
      "Epoch 100 | Loss: 4.454333305358887\n",
      "Epoch 200 | Loss: 0.6733295917510986\n",
      "Epoch 300 | Loss: 0.6888300776481628\n",
      "Accuracy: 0.8028776978417266\n"
     ]
    }
   ],
   "source": [
    "overall_acc = []\n",
    "for train, test in kfold.split(X_train, y_train):\n",
    "\n",
    "    model = BinaryClassificationModel()\n",
    "    model_train(model, X_train[train], y_train[train])\n",
    "    predictions = model(X_train[test])\n",
    "    acc = get_accuracy_score(predictions, y_train[test])\n",
    "    print(f\"Accuracy: {acc}\")\n",
    "    overall_acc.append(acc)"
   ]
  },
  {
   "cell_type": "code",
   "execution_count": 513,
   "metadata": {},
   "outputs": [
    {
     "data": {
      "text/plain": [
       "0.7834367904669794"
      ]
     },
     "execution_count": 513,
     "metadata": {},
     "output_type": "execute_result"
    }
   ],
   "source": [
    "sum(overall_acc) / len(overall_acc)"
   ]
  }
 ],
 "metadata": {
  "kernelspec": {
   "display_name": "Python 3",
   "language": "python",
   "name": "python3"
  },
  "language_info": {
   "codemirror_mode": {
    "name": "ipython",
    "version": 3
   },
   "file_extension": ".py",
   "mimetype": "text/x-python",
   "name": "python",
   "nbconvert_exporter": "python",
   "pygments_lexer": "ipython3",
   "version": "3.10.3"
  },
  "orig_nbformat": 4
 },
 "nbformat": 4,
 "nbformat_minor": 2
}
